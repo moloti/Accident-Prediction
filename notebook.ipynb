{
 "cells": [
  {
   "cell_type": "code",
   "execution_count": 10,
   "metadata": {
    "cell_id": "25dc04dd-88b4-461b-861f-eb530f81259c",
    "deepnote_cell_height": 81.15625,
    "deepnote_cell_type": "code",
    "deepnote_to_be_reexecuted": false,
    "execution_millis": 3,
    "execution_start": 1649236580497,
    "source_hash": "9b82ee11",
    "tags": []
   },
   "outputs": [],
   "source": [
    "import pandas as pd"
   ]
  },
  {
   "cell_type": "code",
   "execution_count": 11,
   "metadata": {
    "cell_id": "8f7363efb5584392b535d1e5224c4c0b",
    "deepnote_cell_height": 81.15625,
    "deepnote_cell_type": "code",
    "deepnote_to_be_reexecuted": false,
    "execution_millis": 543,
    "execution_start": 1649236588263,
    "source_hash": "a5ff3ebb",
    "tags": []
   },
   "outputs": [
    {
     "name": "stderr",
     "output_type": "stream",
     "text": [
      "/opt/anaconda3/lib/python3.8/site-packages/IPython/core/interactiveshell.py:3165: DtypeWarning: Columns (10,13) have mixed types.Specify dtype option on import or set low_memory=False.\n",
      "  has_raised = await self.run_ast_nodes(code_ast.body, cell_name,\n",
      "/opt/anaconda3/lib/python3.8/site-packages/IPython/core/interactiveshell.py:3165: DtypeWarning: Columns (6,9,10,13) have mixed types.Specify dtype option on import or set low_memory=False.\n",
      "  has_raised = await self.run_ast_nodes(code_ast.body, cell_name,\n",
      "/opt/anaconda3/lib/python3.8/site-packages/IPython/core/interactiveshell.py:3165: DtypeWarning: Columns (3,25,26,35,36) have mixed types.Specify dtype option on import or set low_memory=False.\n",
      "  has_raised = await self.run_ast_nodes(code_ast.body, cell_name,\n"
     ]
    }
   ],
   "source": [
    "df_accident = pd.read_csv(\"data/ACCIDENT.csv\")\n",
    "df_accident_location = pd.read_csv(\"data/ACCIDENT_LOCATION.csv\")\n",
    "df_accident_event = pd.read_csv(\"data/ACCIDENT_EVENT.csv\")\n",
    "df_accident_chainage = pd.read_csv(\"data/ACCIDENT_CHAINAGE.csv\")\n",
    "df_atmospheric_cond = pd.read_csv(\"data/ATMOSPHERIC_COND.csv\")\n",
    "df_subdca = pd.read_csv(\"data/SUBDCA.csv\")\n",
    "df_person = pd.read_csv(\"data/PERSON.csv\")\n",
    "df_road_surface_condition = pd.read_csv(\"data/ROAD_SURFACE_COND.csv\")\n",
    "df_vehicle = pd.read_csv(\"data/VEHICLE.csv\")\n",
    "df_node = pd.read_csv(\"data/NODE.csv\")"
   ]
  },
  {
   "cell_type": "code",
   "execution_count": 31,
   "metadata": {
    "cell_id": "ca4a56171c1e410da63644b80904bff5",
    "deepnote_cell_height": 414.171875,
    "deepnote_cell_type": "code",
    "deepnote_to_be_reexecuted": false,
    "execution_millis": 97,
    "execution_start": 1649236601740,
    "source_hash": "c085b6ba",
    "tags": []
   },
   "outputs": [
    {
     "data": {
      "text/plain": "    ACCIDENT_NO ACCIDENTDATE                    ACCIDENTTIME  ACCIDENT_TYPE  \\\n0  T20060000010   13/01/2006  12:42:00                                    1   \n1  T20060000018   13/01/2006  19:10:00                                    1   \n2  T20060000022   14/01/2006  12:10:00                                    7   \n3  T20060000023   14/01/2006  11:49:00                                    1   \n4  T20060000026   14/01/2006  10:45:00                                    1   \n5  T20060000028   14/01/2006  16:15:00                                    1   \n6  T20060000035   15/01/2006  10:55:00                                    4   \n7  T20060000042   15/01/2006  22:00:00                                    4   \n8  T20060000044   16/01/2006  08:55:00                                    1   \n9  T20060000046   16/01/2006  11:00:00                                    2   \n\n               Accident Type Desc  DAY_OF_WEEK Day Week Description  DCA_CODE  \\\n0          Collision with vehicle            6               Friday       113   \n1          Collision with vehicle            6               Friday       113   \n2  Fall from or in moving vehicle            7             Saturday       190   \n3          Collision with vehicle            7             Saturday       130   \n4          Collision with vehicle            7             Saturday       121   \n5          Collision with vehicle            7             Saturday       116   \n6   Collision with a fixed object            1               Sunday       171   \n7   Collision with a fixed object            1               Sunday       171   \n8          Collision with vehicle            2               Monday       140   \n9               Struck Pedestrian            2               Monday       109   \n\n                                     DCA Description DIRECTORY  ...  \\\n0     RIGHT NEAR (INTERSECTIONS ONLY)                      MEL  ...   \n1     RIGHT NEAR (INTERSECTIONS ONLY)                      MEL  ...   \n2           FELL IN/FROM VEHICLE                           MEL  ...   \n3     REAR END(VEHICLES IN SAME LANE)                      MEL  ...   \n4              RIGHT THROUGH                               MEL  ...   \n5      LEFT NEAR (INTERSECTIONS ONLY)                      MEL  ...   \n6  LEFT OFF CARRIAGEWAY INTO OBJECT/PARKED VEHICL...       VCS  ...   \n7  LEFT OFF CARRIAGEWAY INTO OBJECT/PARKED VEHICL...       MEL  ...   \n8                  U TURN                                  MEL  ...   \n9  ANY MANOEUVRE INVOLVING PED NOT INCLUDED IN DC...       MEL  ...   \n\n  NO_PERSONS NO_PERSONS_INJ_2 NO_PERSONS_INJ_3 NO_PERSONS_KILLED  \\\n0          6                0                1                 0   \n1          4                0                1                 0   \n2          2                1                0                 0   \n3          2                1                0                 0   \n4          3                0                3                 0   \n5          2                1                0                 0   \n6          1                1                0                 0   \n7          1                1                0                 0   \n8          5                2                2                 0   \n9          2                0                1                 0   \n\n   NO_PERSONS_NOT_INJ POLICE_ATTEND  ROAD_GEOMETRY   Road Geometry Desc  \\\n0                   5             1              1   Cross intersection   \n1                   3             1              2       T intersection   \n2                   1             1              5  Not at intersection   \n3                   1             1              2       T intersection   \n4                   0             1              5  Not at intersection   \n5                   1             1              1   Cross intersection   \n6                   0             1              5  Not at intersection   \n7                   0             1              5  Not at intersection   \n8                   1             1              2       T intersection   \n9                   1             1              5  Not at intersection   \n\n   SEVERITY  SPEED_ZONE  \n0         3          60  \n1         3          70  \n2         2         100  \n3         2          80  \n4         3          50  \n5         2         100  \n6         2         100  \n7         2          70  \n8         2          80  \n9         3          60  \n\n[10 rows x 28 columns]",
      "text/html": "<div>\n<style scoped>\n    .dataframe tbody tr th:only-of-type {\n        vertical-align: middle;\n    }\n\n    .dataframe tbody tr th {\n        vertical-align: top;\n    }\n\n    .dataframe thead th {\n        text-align: right;\n    }\n</style>\n<table border=\"1\" class=\"dataframe\">\n  <thead>\n    <tr style=\"text-align: right;\">\n      <th></th>\n      <th>ACCIDENT_NO</th>\n      <th>ACCIDENTDATE</th>\n      <th>ACCIDENTTIME</th>\n      <th>ACCIDENT_TYPE</th>\n      <th>Accident Type Desc</th>\n      <th>DAY_OF_WEEK</th>\n      <th>Day Week Description</th>\n      <th>DCA_CODE</th>\n      <th>DCA Description</th>\n      <th>DIRECTORY</th>\n      <th>...</th>\n      <th>NO_PERSONS</th>\n      <th>NO_PERSONS_INJ_2</th>\n      <th>NO_PERSONS_INJ_3</th>\n      <th>NO_PERSONS_KILLED</th>\n      <th>NO_PERSONS_NOT_INJ</th>\n      <th>POLICE_ATTEND</th>\n      <th>ROAD_GEOMETRY</th>\n      <th>Road Geometry Desc</th>\n      <th>SEVERITY</th>\n      <th>SPEED_ZONE</th>\n    </tr>\n  </thead>\n  <tbody>\n    <tr>\n      <th>0</th>\n      <td>T20060000010</td>\n      <td>13/01/2006</td>\n      <td>12:42:00</td>\n      <td>1</td>\n      <td>Collision with vehicle</td>\n      <td>6</td>\n      <td>Friday</td>\n      <td>113</td>\n      <td>RIGHT NEAR (INTERSECTIONS ONLY)</td>\n      <td>MEL</td>\n      <td>...</td>\n      <td>6</td>\n      <td>0</td>\n      <td>1</td>\n      <td>0</td>\n      <td>5</td>\n      <td>1</td>\n      <td>1</td>\n      <td>Cross intersection</td>\n      <td>3</td>\n      <td>60</td>\n    </tr>\n    <tr>\n      <th>1</th>\n      <td>T20060000018</td>\n      <td>13/01/2006</td>\n      <td>19:10:00</td>\n      <td>1</td>\n      <td>Collision with vehicle</td>\n      <td>6</td>\n      <td>Friday</td>\n      <td>113</td>\n      <td>RIGHT NEAR (INTERSECTIONS ONLY)</td>\n      <td>MEL</td>\n      <td>...</td>\n      <td>4</td>\n      <td>0</td>\n      <td>1</td>\n      <td>0</td>\n      <td>3</td>\n      <td>1</td>\n      <td>2</td>\n      <td>T intersection</td>\n      <td>3</td>\n      <td>70</td>\n    </tr>\n    <tr>\n      <th>2</th>\n      <td>T20060000022</td>\n      <td>14/01/2006</td>\n      <td>12:10:00</td>\n      <td>7</td>\n      <td>Fall from or in moving vehicle</td>\n      <td>7</td>\n      <td>Saturday</td>\n      <td>190</td>\n      <td>FELL IN/FROM VEHICLE</td>\n      <td>MEL</td>\n      <td>...</td>\n      <td>2</td>\n      <td>1</td>\n      <td>0</td>\n      <td>0</td>\n      <td>1</td>\n      <td>1</td>\n      <td>5</td>\n      <td>Not at intersection</td>\n      <td>2</td>\n      <td>100</td>\n    </tr>\n    <tr>\n      <th>3</th>\n      <td>T20060000023</td>\n      <td>14/01/2006</td>\n      <td>11:49:00</td>\n      <td>1</td>\n      <td>Collision with vehicle</td>\n      <td>7</td>\n      <td>Saturday</td>\n      <td>130</td>\n      <td>REAR END(VEHICLES IN SAME LANE)</td>\n      <td>MEL</td>\n      <td>...</td>\n      <td>2</td>\n      <td>1</td>\n      <td>0</td>\n      <td>0</td>\n      <td>1</td>\n      <td>1</td>\n      <td>2</td>\n      <td>T intersection</td>\n      <td>2</td>\n      <td>80</td>\n    </tr>\n    <tr>\n      <th>4</th>\n      <td>T20060000026</td>\n      <td>14/01/2006</td>\n      <td>10:45:00</td>\n      <td>1</td>\n      <td>Collision with vehicle</td>\n      <td>7</td>\n      <td>Saturday</td>\n      <td>121</td>\n      <td>RIGHT THROUGH</td>\n      <td>MEL</td>\n      <td>...</td>\n      <td>3</td>\n      <td>0</td>\n      <td>3</td>\n      <td>0</td>\n      <td>0</td>\n      <td>1</td>\n      <td>5</td>\n      <td>Not at intersection</td>\n      <td>3</td>\n      <td>50</td>\n    </tr>\n    <tr>\n      <th>5</th>\n      <td>T20060000028</td>\n      <td>14/01/2006</td>\n      <td>16:15:00</td>\n      <td>1</td>\n      <td>Collision with vehicle</td>\n      <td>7</td>\n      <td>Saturday</td>\n      <td>116</td>\n      <td>LEFT NEAR (INTERSECTIONS ONLY)</td>\n      <td>MEL</td>\n      <td>...</td>\n      <td>2</td>\n      <td>1</td>\n      <td>0</td>\n      <td>0</td>\n      <td>1</td>\n      <td>1</td>\n      <td>1</td>\n      <td>Cross intersection</td>\n      <td>2</td>\n      <td>100</td>\n    </tr>\n    <tr>\n      <th>6</th>\n      <td>T20060000035</td>\n      <td>15/01/2006</td>\n      <td>10:55:00</td>\n      <td>4</td>\n      <td>Collision with a fixed object</td>\n      <td>1</td>\n      <td>Sunday</td>\n      <td>171</td>\n      <td>LEFT OFF CARRIAGEWAY INTO OBJECT/PARKED VEHICL...</td>\n      <td>VCS</td>\n      <td>...</td>\n      <td>1</td>\n      <td>1</td>\n      <td>0</td>\n      <td>0</td>\n      <td>0</td>\n      <td>1</td>\n      <td>5</td>\n      <td>Not at intersection</td>\n      <td>2</td>\n      <td>100</td>\n    </tr>\n    <tr>\n      <th>7</th>\n      <td>T20060000042</td>\n      <td>15/01/2006</td>\n      <td>22:00:00</td>\n      <td>4</td>\n      <td>Collision with a fixed object</td>\n      <td>1</td>\n      <td>Sunday</td>\n      <td>171</td>\n      <td>LEFT OFF CARRIAGEWAY INTO OBJECT/PARKED VEHICL...</td>\n      <td>MEL</td>\n      <td>...</td>\n      <td>1</td>\n      <td>1</td>\n      <td>0</td>\n      <td>0</td>\n      <td>0</td>\n      <td>1</td>\n      <td>5</td>\n      <td>Not at intersection</td>\n      <td>2</td>\n      <td>70</td>\n    </tr>\n    <tr>\n      <th>8</th>\n      <td>T20060000044</td>\n      <td>16/01/2006</td>\n      <td>08:55:00</td>\n      <td>1</td>\n      <td>Collision with vehicle</td>\n      <td>2</td>\n      <td>Monday</td>\n      <td>140</td>\n      <td>U TURN</td>\n      <td>MEL</td>\n      <td>...</td>\n      <td>5</td>\n      <td>2</td>\n      <td>2</td>\n      <td>0</td>\n      <td>1</td>\n      <td>1</td>\n      <td>2</td>\n      <td>T intersection</td>\n      <td>2</td>\n      <td>80</td>\n    </tr>\n    <tr>\n      <th>9</th>\n      <td>T20060000046</td>\n      <td>16/01/2006</td>\n      <td>11:00:00</td>\n      <td>2</td>\n      <td>Struck Pedestrian</td>\n      <td>2</td>\n      <td>Monday</td>\n      <td>109</td>\n      <td>ANY MANOEUVRE INVOLVING PED NOT INCLUDED IN DC...</td>\n      <td>MEL</td>\n      <td>...</td>\n      <td>2</td>\n      <td>0</td>\n      <td>1</td>\n      <td>0</td>\n      <td>1</td>\n      <td>1</td>\n      <td>5</td>\n      <td>Not at intersection</td>\n      <td>3</td>\n      <td>60</td>\n    </tr>\n  </tbody>\n</table>\n<p>10 rows × 28 columns</p>\n</div>"
     },
     "execution_count": 31,
     "metadata": {},
     "output_type": "execute_result"
    }
   ],
   "source": [
    "df_accident.head(10)"
   ]
  },
  {
   "cell_type": "code",
   "execution_count": 13,
   "metadata": {},
   "outputs": [
    {
     "name": "stdout",
     "output_type": "stream",
     "text": [
      "<class 'pandas.core.frame.DataFrame'>\n",
      "RangeIndex: 203708 entries, 0 to 203707\n",
      "Data columns (total 28 columns):\n",
      " #   Column                Non-Null Count   Dtype \n",
      "---  ------                --------------   ----- \n",
      " 0   ACCIDENT_NO           203708 non-null  object\n",
      " 1   ACCIDENTDATE          203708 non-null  object\n",
      " 2   ACCIDENTTIME          203708 non-null  object\n",
      " 3   ACCIDENT_TYPE         203708 non-null  int64 \n",
      " 4   Accident Type Desc    203708 non-null  object\n",
      " 5   DAY_OF_WEEK           203708 non-null  int64 \n",
      " 6   Day Week Description  203708 non-null  object\n",
      " 7   DCA_CODE              203708 non-null  int64 \n",
      " 8   DCA Description       203708 non-null  object\n",
      " 9   DIRECTORY             201360 non-null  object\n",
      " 10  EDITION               201360 non-null  object\n",
      " 11  PAGE                  201360 non-null  object\n",
      " 12  GRID_REFERENCE_X      201360 non-null  object\n",
      " 13  GRID_REFERENCE_Y      201360 non-null  object\n",
      " 14  LIGHT_CONDITION       203708 non-null  int64 \n",
      " 15  Light Condition Desc  203708 non-null  object\n",
      " 16  NODE_ID               203708 non-null  int64 \n",
      " 17  NO_OF_VEHICLES        203708 non-null  int64 \n",
      " 18  NO_PERSONS            203708 non-null  int64 \n",
      " 19  NO_PERSONS_INJ_2      203708 non-null  int64 \n",
      " 20  NO_PERSONS_INJ_3      203708 non-null  int64 \n",
      " 21  NO_PERSONS_KILLED     203708 non-null  int64 \n",
      " 22  NO_PERSONS_NOT_INJ    203708 non-null  int64 \n",
      " 23  POLICE_ATTEND         203708 non-null  int64 \n",
      " 24  ROAD_GEOMETRY         203708 non-null  int64 \n",
      " 25  Road Geometry Desc    203708 non-null  object\n",
      " 26  SEVERITY              203708 non-null  int64 \n",
      " 27  SPEED_ZONE            203708 non-null  int64 \n",
      "dtypes: int64(15), object(13)\n",
      "memory usage: 43.5+ MB\n"
     ]
    }
   ],
   "source": [
    "df_accident.info()"
   ]
  },
  {
   "cell_type": "code",
   "execution_count": 32,
   "outputs": [
    {
     "data": {
      "text/plain": "array(['MEL', 'VCS', nan, 'VCD', ' '], dtype=object)"
     },
     "execution_count": 32,
     "metadata": {},
     "output_type": "execute_result"
    }
   ],
   "source": [
    "df_accident.drop(columns=['Accident Type Desc', 'Day Week Description', 'DCA Description', 'DIRECTORY', 'EDITION', 'PAGE', 'GRID_REFERENCE_X', 'GRID_REFERENCE_Y', 'Light Condition Desc'])\n",
    "\n",
    "# Use Columns ['ACCIDENT_NO', 'ACCIDENTDATE', 'ACCIDENTTIME', 'ACCIDENT_TYPE', 'DAY_OF_WEEK', 'DCA_CODE', 'LIGHT_CONDITION', 'NODE_ID']"
   ],
   "metadata": {
    "collapsed": false,
    "pycharm": {
     "name": "#%%\n"
    }
   }
  },
  {
   "cell_type": "code",
   "execution_count": 15,
   "metadata": {},
   "outputs": [
    {
     "data": {
      "text/plain": "    ACCIDENT_NO  EVENT_SEQ_NO EVENT_TYPE    Event Type Desc VEHICLE_1_ID  \\\n0  T20060000010           1.0          C          Collision            B   \n1  T20060000018           1.0          C          Collision            B   \n2  T20060000022           1.0          2  Fell from vehicle            A   \n3  T20060000023           1.0          C          Collision            A   \n4  T20060000026           1.0          C          Collision            A   \n\n  VEHICLE_1_COLL_PT       Vehicle 1 Coll Pt Desc VEHICLE_2_ID  \\\n0                 2        Right side (forwards)            A   \n1                 F                        Front            A   \n2                 9  Not known or Not Applicable                \n3                 F                        Front            B   \n4                 9  Not known or Not Applicable            B   \n\n  VEHICLE_2_COLL_PT       Vehicle 2 Coll Pt Desc PERSON_ID  OBJECT_TYPE  \\\n0                 F                        Front                   99.0   \n1                 9  Not known or Not Applicable                   99.0   \n2                                                       01         99.0   \n3                 R                         Rear                   99.0   \n4                 9  Not known or Not Applicable                   99.0   \n\n  Object Type Desc  \n0   Not Applicable  \n1   Not Applicable  \n2   Not Applicable  \n3   Not Applicable  \n4   Not Applicable  ",
      "text/html": "<div>\n<style scoped>\n    .dataframe tbody tr th:only-of-type {\n        vertical-align: middle;\n    }\n\n    .dataframe tbody tr th {\n        vertical-align: top;\n    }\n\n    .dataframe thead th {\n        text-align: right;\n    }\n</style>\n<table border=\"1\" class=\"dataframe\">\n  <thead>\n    <tr style=\"text-align: right;\">\n      <th></th>\n      <th>ACCIDENT_NO</th>\n      <th>EVENT_SEQ_NO</th>\n      <th>EVENT_TYPE</th>\n      <th>Event Type Desc</th>\n      <th>VEHICLE_1_ID</th>\n      <th>VEHICLE_1_COLL_PT</th>\n      <th>Vehicle 1 Coll Pt Desc</th>\n      <th>VEHICLE_2_ID</th>\n      <th>VEHICLE_2_COLL_PT</th>\n      <th>Vehicle 2 Coll Pt Desc</th>\n      <th>PERSON_ID</th>\n      <th>OBJECT_TYPE</th>\n      <th>Object Type Desc</th>\n    </tr>\n  </thead>\n  <tbody>\n    <tr>\n      <th>0</th>\n      <td>T20060000010</td>\n      <td>1.0</td>\n      <td>C</td>\n      <td>Collision</td>\n      <td>B</td>\n      <td>2</td>\n      <td>Right side (forwards)</td>\n      <td>A</td>\n      <td>F</td>\n      <td>Front</td>\n      <td></td>\n      <td>99.0</td>\n      <td>Not Applicable</td>\n    </tr>\n    <tr>\n      <th>1</th>\n      <td>T20060000018</td>\n      <td>1.0</td>\n      <td>C</td>\n      <td>Collision</td>\n      <td>B</td>\n      <td>F</td>\n      <td>Front</td>\n      <td>A</td>\n      <td>9</td>\n      <td>Not known or Not Applicable</td>\n      <td></td>\n      <td>99.0</td>\n      <td>Not Applicable</td>\n    </tr>\n    <tr>\n      <th>2</th>\n      <td>T20060000022</td>\n      <td>1.0</td>\n      <td>2</td>\n      <td>Fell from vehicle</td>\n      <td>A</td>\n      <td>9</td>\n      <td>Not known or Not Applicable</td>\n      <td></td>\n      <td></td>\n      <td></td>\n      <td>01</td>\n      <td>99.0</td>\n      <td>Not Applicable</td>\n    </tr>\n    <tr>\n      <th>3</th>\n      <td>T20060000023</td>\n      <td>1.0</td>\n      <td>C</td>\n      <td>Collision</td>\n      <td>A</td>\n      <td>F</td>\n      <td>Front</td>\n      <td>B</td>\n      <td>R</td>\n      <td>Rear</td>\n      <td></td>\n      <td>99.0</td>\n      <td>Not Applicable</td>\n    </tr>\n    <tr>\n      <th>4</th>\n      <td>T20060000026</td>\n      <td>1.0</td>\n      <td>C</td>\n      <td>Collision</td>\n      <td>A</td>\n      <td>9</td>\n      <td>Not known or Not Applicable</td>\n      <td>B</td>\n      <td>9</td>\n      <td>Not known or Not Applicable</td>\n      <td></td>\n      <td>99.0</td>\n      <td>Not Applicable</td>\n    </tr>\n  </tbody>\n</table>\n</div>"
     },
     "execution_count": 15,
     "metadata": {},
     "output_type": "execute_result"
    }
   ],
   "source": [
    "df_accident_event.head()"
   ]
  },
  {
   "cell_type": "code",
   "execution_count": 16,
   "metadata": {},
   "outputs": [
    {
     "name": "stdout",
     "output_type": "stream",
     "text": [
      "<class 'pandas.core.frame.DataFrame'>\n",
      "RangeIndex: 326638 entries, 0 to 326637\n",
      "Data columns (total 13 columns):\n",
      " #   Column                  Non-Null Count   Dtype  \n",
      "---  ------                  --------------   -----  \n",
      " 0   ACCIDENT_NO             326638 non-null  object \n",
      " 1   EVENT_SEQ_NO            326634 non-null  float64\n",
      " 2   EVENT_TYPE              326634 non-null  object \n",
      " 3   Event Type Desc         326638 non-null  object \n",
      " 4   VEHICLE_1_ID            326634 non-null  object \n",
      " 5   VEHICLE_1_COLL_PT       326634 non-null  object \n",
      " 6   Vehicle 1 Coll Pt Desc  326638 non-null  object \n",
      " 7   VEHICLE_2_ID            326634 non-null  object \n",
      " 8   VEHICLE_2_COLL_PT       326634 non-null  object \n",
      " 9   Vehicle 2 Coll Pt Desc  326638 non-null  object \n",
      " 10  PERSON_ID               326634 non-null  object \n",
      " 11  OBJECT_TYPE             326634 non-null  float64\n",
      " 12  Object Type Desc        326638 non-null  object \n",
      "dtypes: float64(2), object(11)\n",
      "memory usage: 32.4+ MB\n"
     ]
    }
   ],
   "source": [
    "df_accident_event.info()"
   ]
  },
  {
   "cell_type": "code",
   "execution_count": 17,
   "metadata": {},
   "outputs": [
    {
     "data": {
      "text/plain": "  Node Id  Route No  Chainage Seq  Route Link No  Chainage\n0       4  109454.0           1.0    109454801.0     908.0\n1       4  114095.0           2.0    114095801.0     559.0\n2       6  183250.0           1.0    183250801.0    2536.0\n3       6  216298.0           2.0    216298801.0     528.0\n4      11    2500.0           1.0     25008008.0     801.0",
      "text/html": "<div>\n<style scoped>\n    .dataframe tbody tr th:only-of-type {\n        vertical-align: middle;\n    }\n\n    .dataframe tbody tr th {\n        vertical-align: top;\n    }\n\n    .dataframe thead th {\n        text-align: right;\n    }\n</style>\n<table border=\"1\" class=\"dataframe\">\n  <thead>\n    <tr style=\"text-align: right;\">\n      <th></th>\n      <th>Node Id</th>\n      <th>Route No</th>\n      <th>Chainage Seq</th>\n      <th>Route Link No</th>\n      <th>Chainage</th>\n    </tr>\n  </thead>\n  <tbody>\n    <tr>\n      <th>0</th>\n      <td>4</td>\n      <td>109454.0</td>\n      <td>1.0</td>\n      <td>109454801.0</td>\n      <td>908.0</td>\n    </tr>\n    <tr>\n      <th>1</th>\n      <td>4</td>\n      <td>114095.0</td>\n      <td>2.0</td>\n      <td>114095801.0</td>\n      <td>559.0</td>\n    </tr>\n    <tr>\n      <th>2</th>\n      <td>6</td>\n      <td>183250.0</td>\n      <td>1.0</td>\n      <td>183250801.0</td>\n      <td>2536.0</td>\n    </tr>\n    <tr>\n      <th>3</th>\n      <td>6</td>\n      <td>216298.0</td>\n      <td>2.0</td>\n      <td>216298801.0</td>\n      <td>528.0</td>\n    </tr>\n    <tr>\n      <th>4</th>\n      <td>11</td>\n      <td>2500.0</td>\n      <td>1.0</td>\n      <td>25008008.0</td>\n      <td>801.0</td>\n    </tr>\n  </tbody>\n</table>\n</div>"
     },
     "execution_count": 17,
     "metadata": {},
     "output_type": "execute_result"
    }
   ],
   "source": [
    "df_accident_chainage.head()"
   ]
  },
  {
   "cell_type": "code",
   "execution_count": 18,
   "metadata": {},
   "outputs": [
    {
     "name": "stdout",
     "output_type": "stream",
     "text": [
      "<class 'pandas.core.frame.DataFrame'>\n",
      "RangeIndex: 173557 entries, 0 to 173556\n",
      "Data columns (total 5 columns):\n",
      " #   Column         Non-Null Count   Dtype  \n",
      "---  ------         --------------   -----  \n",
      " 0   Node Id        173556 non-null  object \n",
      " 1   Route No       173556 non-null  float64\n",
      " 2   Chainage Seq   173556 non-null  float64\n",
      " 3   Route Link No  173556 non-null  float64\n",
      " 4   Chainage       173556 non-null  float64\n",
      "dtypes: float64(4), object(1)\n",
      "memory usage: 6.6+ MB\n"
     ]
    }
   ],
   "source": [
    "df_accident_chainage.info()"
   ]
  },
  {
   "cell_type": "code",
   "execution_count": 19,
   "outputs": [
    {
     "data": {
      "text/plain": "    ACCIDENT_NO  NODE_ID  ROAD_ROUTE_1   ROAD_NAME ROAD_TYPE    ROAD_NAME_INT  \\\n0  T20060000010    43078        2090.0      FOSTER    STREET           MCCRAE   \n1  T20060000018    29720        5057.0      HALLAM      ROAD  BELGRAVE-HALLAM   \n2  T20060000022   203074        9999.0      BROWNS      ROAD         TRUEMANS   \n3  T20060000023    55462        2400.0  SPRINGVALE      ROAD      KEYSBOROUGH   \n4  T20060000026   202988        9999.0   ELIZABETH    AVENUE        GREENHOOD   \n\n  ROAD_TYPE_INT  DISTANCE_LOCATION DIRECTION_LOCATION  NEAREST_KM_POST  \\\n0        STREET                0.0                 SW              NaN   \n1          ROAD               70.0                  S              NaN   \n2          ROAD              210.0                  W              NaN   \n3        AVENUE                0.0                  N              NaN   \n4      CRESCENT               20.0                  N              NaN   \n\n  OFF_ROAD_LOCATION  \n0               NaN  \n1               NaN  \n2               NaN  \n3               NaN  \n4               NaN  ",
      "text/html": "<div>\n<style scoped>\n    .dataframe tbody tr th:only-of-type {\n        vertical-align: middle;\n    }\n\n    .dataframe tbody tr th {\n        vertical-align: top;\n    }\n\n    .dataframe thead th {\n        text-align: right;\n    }\n</style>\n<table border=\"1\" class=\"dataframe\">\n  <thead>\n    <tr style=\"text-align: right;\">\n      <th></th>\n      <th>ACCIDENT_NO</th>\n      <th>NODE_ID</th>\n      <th>ROAD_ROUTE_1</th>\n      <th>ROAD_NAME</th>\n      <th>ROAD_TYPE</th>\n      <th>ROAD_NAME_INT</th>\n      <th>ROAD_TYPE_INT</th>\n      <th>DISTANCE_LOCATION</th>\n      <th>DIRECTION_LOCATION</th>\n      <th>NEAREST_KM_POST</th>\n      <th>OFF_ROAD_LOCATION</th>\n    </tr>\n  </thead>\n  <tbody>\n    <tr>\n      <th>0</th>\n      <td>T20060000010</td>\n      <td>43078</td>\n      <td>2090.0</td>\n      <td>FOSTER</td>\n      <td>STREET</td>\n      <td>MCCRAE</td>\n      <td>STREET</td>\n      <td>0.0</td>\n      <td>SW</td>\n      <td>NaN</td>\n      <td>NaN</td>\n    </tr>\n    <tr>\n      <th>1</th>\n      <td>T20060000018</td>\n      <td>29720</td>\n      <td>5057.0</td>\n      <td>HALLAM</td>\n      <td>ROAD</td>\n      <td>BELGRAVE-HALLAM</td>\n      <td>ROAD</td>\n      <td>70.0</td>\n      <td>S</td>\n      <td>NaN</td>\n      <td>NaN</td>\n    </tr>\n    <tr>\n      <th>2</th>\n      <td>T20060000022</td>\n      <td>203074</td>\n      <td>9999.0</td>\n      <td>BROWNS</td>\n      <td>ROAD</td>\n      <td>TRUEMANS</td>\n      <td>ROAD</td>\n      <td>210.0</td>\n      <td>W</td>\n      <td>NaN</td>\n      <td>NaN</td>\n    </tr>\n    <tr>\n      <th>3</th>\n      <td>T20060000023</td>\n      <td>55462</td>\n      <td>2400.0</td>\n      <td>SPRINGVALE</td>\n      <td>ROAD</td>\n      <td>KEYSBOROUGH</td>\n      <td>AVENUE</td>\n      <td>0.0</td>\n      <td>N</td>\n      <td>NaN</td>\n      <td>NaN</td>\n    </tr>\n    <tr>\n      <th>4</th>\n      <td>T20060000026</td>\n      <td>202988</td>\n      <td>9999.0</td>\n      <td>ELIZABETH</td>\n      <td>AVENUE</td>\n      <td>GREENHOOD</td>\n      <td>CRESCENT</td>\n      <td>20.0</td>\n      <td>N</td>\n      <td>NaN</td>\n      <td>NaN</td>\n    </tr>\n  </tbody>\n</table>\n</div>"
     },
     "execution_count": 19,
     "metadata": {},
     "output_type": "execute_result"
    }
   ],
   "source": [
    "df_accident_location.head()"
   ],
   "metadata": {
    "collapsed": false,
    "pycharm": {
     "name": "#%%\n"
    }
   }
  },
  {
   "cell_type": "code",
   "execution_count": 20,
   "outputs": [
    {
     "name": "stdout",
     "output_type": "stream",
     "text": [
      "<class 'pandas.core.frame.DataFrame'>\n",
      "RangeIndex: 203708 entries, 0 to 203707\n",
      "Data columns (total 11 columns):\n",
      " #   Column              Non-Null Count   Dtype  \n",
      "---  ------              --------------   -----  \n",
      " 0   ACCIDENT_NO         203708 non-null  object \n",
      " 1   NODE_ID             203708 non-null  int64  \n",
      " 2   ROAD_ROUTE_1        202878 non-null  float64\n",
      " 3   ROAD_NAME           202702 non-null  object \n",
      " 4   ROAD_TYPE           200309 non-null  object \n",
      " 5   ROAD_NAME_INT       201886 non-null  object \n",
      " 6   ROAD_TYPE_INT       200211 non-null  object \n",
      " 7   DISTANCE_LOCATION   202878 non-null  float64\n",
      " 8   DIRECTION_LOCATION  202878 non-null  object \n",
      " 9   NEAREST_KM_POST     45 non-null      float64\n",
      " 10  OFF_ROAD_LOCATION   21924 non-null   object \n",
      "dtypes: float64(3), int64(1), object(7)\n",
      "memory usage: 17.1+ MB\n"
     ]
    }
   ],
   "source": [
    "df_accident_location.info()"
   ],
   "metadata": {
    "collapsed": false,
    "pycharm": {
     "name": "#%%\n"
    }
   }
  },
  {
   "cell_type": "code",
   "execution_count": 21,
   "outputs": [
    {
     "data": {
      "text/plain": "    ACCIDENT_NO  ATMOSPH_COND  ATMOSPH_COND_SEQ Atmosph Cond Desc\n0  T20060000010             1                 1             Clear\n1  T20060000018             1                 1             Clear\n2  T20060000022             1                 1             Clear\n3  T20060000023             1                 1             Clear\n4  T20060000026             1                 1             Clear",
      "text/html": "<div>\n<style scoped>\n    .dataframe tbody tr th:only-of-type {\n        vertical-align: middle;\n    }\n\n    .dataframe tbody tr th {\n        vertical-align: top;\n    }\n\n    .dataframe thead th {\n        text-align: right;\n    }\n</style>\n<table border=\"1\" class=\"dataframe\">\n  <thead>\n    <tr style=\"text-align: right;\">\n      <th></th>\n      <th>ACCIDENT_NO</th>\n      <th>ATMOSPH_COND</th>\n      <th>ATMOSPH_COND_SEQ</th>\n      <th>Atmosph Cond Desc</th>\n    </tr>\n  </thead>\n  <tbody>\n    <tr>\n      <th>0</th>\n      <td>T20060000010</td>\n      <td>1</td>\n      <td>1</td>\n      <td>Clear</td>\n    </tr>\n    <tr>\n      <th>1</th>\n      <td>T20060000018</td>\n      <td>1</td>\n      <td>1</td>\n      <td>Clear</td>\n    </tr>\n    <tr>\n      <th>2</th>\n      <td>T20060000022</td>\n      <td>1</td>\n      <td>1</td>\n      <td>Clear</td>\n    </tr>\n    <tr>\n      <th>3</th>\n      <td>T20060000023</td>\n      <td>1</td>\n      <td>1</td>\n      <td>Clear</td>\n    </tr>\n    <tr>\n      <th>4</th>\n      <td>T20060000026</td>\n      <td>1</td>\n      <td>1</td>\n      <td>Clear</td>\n    </tr>\n  </tbody>\n</table>\n</div>"
     },
     "execution_count": 21,
     "metadata": {},
     "output_type": "execute_result"
    }
   ],
   "source": [
    "df_atmospheric_cond.head()"
   ],
   "metadata": {
    "collapsed": false,
    "pycharm": {
     "name": "#%%\n"
    }
   }
  },
  {
   "cell_type": "code",
   "execution_count": 22,
   "outputs": [
    {
     "name": "stdout",
     "output_type": "stream",
     "text": [
      "<class 'pandas.core.frame.DataFrame'>\n",
      "RangeIndex: 206958 entries, 0 to 206957\n",
      "Data columns (total 4 columns):\n",
      " #   Column             Non-Null Count   Dtype \n",
      "---  ------             --------------   ----- \n",
      " 0   ACCIDENT_NO        206958 non-null  object\n",
      " 1   ATMOSPH_COND       206958 non-null  int64 \n",
      " 2   ATMOSPH_COND_SEQ   206958 non-null  int64 \n",
      " 3   Atmosph Cond Desc  206958 non-null  object\n",
      "dtypes: int64(2), object(2)\n",
      "memory usage: 6.3+ MB\n"
     ]
    }
   ],
   "source": [
    "df_atmospheric_cond.info()"
   ],
   "metadata": {
    "collapsed": false,
    "pycharm": {
     "name": "#%%\n"
    }
   }
  },
  {
   "cell_type": "code",
   "execution_count": 23,
   "metadata": {},
   "outputs": [
    {
     "data": {
      "text/plain": "    ACCIDENT_NO VEHICLE_ID  VEHICLE_YEAR_MANUF VEHICLE_DCA_CODE  \\\n0  T20060000010          A              1996.0                2   \n1  T20060000010          B              2003.0                1   \n2  T20060000010          C              2001.0                8   \n3  T20060000018          A              1998.0                2   \n4  T20060000018          B              1991.0                1   \n\n  INITIAL_DIRECTION  ROAD_SURFACE_TYPE Road Surface Type Desc REG_STATE  \\\n0                SW                  1                  Paved         V   \n1                NW                  1                  Paved         V   \n2                NW                  1                  Paved         V   \n3                S                   1                  Paved         V   \n4                N                   1                  Paved         V   \n\n  VEHICLE_BODY_STYLE VEHICLE_MAKE  ... VEHICLE_COLOUR_1  VEHICLE_COLOUR_2  \\\n0             SEDAN        MITSUB  ...              MRN               ZZ    \n1             COUPE        UNKN    ...              BLU               ZZ    \n2             SEDAN        FORD    ...              YLW               ZZ    \n3             DC UTE       TOYOTA  ...              GRY               ZZ    \n4             SEDAN        SUBARU  ...              BLU               ZZ    \n\n   CAUGHT_FIRE INITIAL_IMPACT  LAMPS LEVEL_OF_DAMAGE OWNER_POSTCODE  \\\n0            2              F      2               3         3130.0   \n1            2              2      2               3         3977.0   \n2            2              F      2               2         3804.0   \n3            2              9      0               3         3175.0   \n4            2              F      0               5         3805.0   \n\n   TOWED_AWAY_FLAG  TRAFFIC_CONTROL  Traffic Control Desc  \n0                1                1        Stop-go lights  \n1                1                1        Stop-go lights  \n2                2                1        Stop-go lights  \n3                1                0            No control  \n4                1               11          Giveway sign  \n\n[5 rows x 38 columns]",
      "text/html": "<div>\n<style scoped>\n    .dataframe tbody tr th:only-of-type {\n        vertical-align: middle;\n    }\n\n    .dataframe tbody tr th {\n        vertical-align: top;\n    }\n\n    .dataframe thead th {\n        text-align: right;\n    }\n</style>\n<table border=\"1\" class=\"dataframe\">\n  <thead>\n    <tr style=\"text-align: right;\">\n      <th></th>\n      <th>ACCIDENT_NO</th>\n      <th>VEHICLE_ID</th>\n      <th>VEHICLE_YEAR_MANUF</th>\n      <th>VEHICLE_DCA_CODE</th>\n      <th>INITIAL_DIRECTION</th>\n      <th>ROAD_SURFACE_TYPE</th>\n      <th>Road Surface Type Desc</th>\n      <th>REG_STATE</th>\n      <th>VEHICLE_BODY_STYLE</th>\n      <th>VEHICLE_MAKE</th>\n      <th>...</th>\n      <th>VEHICLE_COLOUR_1</th>\n      <th>VEHICLE_COLOUR_2</th>\n      <th>CAUGHT_FIRE</th>\n      <th>INITIAL_IMPACT</th>\n      <th>LAMPS</th>\n      <th>LEVEL_OF_DAMAGE</th>\n      <th>OWNER_POSTCODE</th>\n      <th>TOWED_AWAY_FLAG</th>\n      <th>TRAFFIC_CONTROL</th>\n      <th>Traffic Control Desc</th>\n    </tr>\n  </thead>\n  <tbody>\n    <tr>\n      <th>0</th>\n      <td>T20060000010</td>\n      <td>A</td>\n      <td>1996.0</td>\n      <td>2</td>\n      <td>SW</td>\n      <td>1</td>\n      <td>Paved</td>\n      <td>V</td>\n      <td>SEDAN</td>\n      <td>MITSUB</td>\n      <td>...</td>\n      <td>MRN</td>\n      <td>ZZ</td>\n      <td>2</td>\n      <td>F</td>\n      <td>2</td>\n      <td>3</td>\n      <td>3130.0</td>\n      <td>1</td>\n      <td>1</td>\n      <td>Stop-go lights</td>\n    </tr>\n    <tr>\n      <th>1</th>\n      <td>T20060000010</td>\n      <td>B</td>\n      <td>2003.0</td>\n      <td>1</td>\n      <td>NW</td>\n      <td>1</td>\n      <td>Paved</td>\n      <td>V</td>\n      <td>COUPE</td>\n      <td>UNKN</td>\n      <td>...</td>\n      <td>BLU</td>\n      <td>ZZ</td>\n      <td>2</td>\n      <td>2</td>\n      <td>2</td>\n      <td>3</td>\n      <td>3977.0</td>\n      <td>1</td>\n      <td>1</td>\n      <td>Stop-go lights</td>\n    </tr>\n    <tr>\n      <th>2</th>\n      <td>T20060000010</td>\n      <td>C</td>\n      <td>2001.0</td>\n      <td>8</td>\n      <td>NW</td>\n      <td>1</td>\n      <td>Paved</td>\n      <td>V</td>\n      <td>SEDAN</td>\n      <td>FORD</td>\n      <td>...</td>\n      <td>YLW</td>\n      <td>ZZ</td>\n      <td>2</td>\n      <td>F</td>\n      <td>2</td>\n      <td>2</td>\n      <td>3804.0</td>\n      <td>2</td>\n      <td>1</td>\n      <td>Stop-go lights</td>\n    </tr>\n    <tr>\n      <th>3</th>\n      <td>T20060000018</td>\n      <td>A</td>\n      <td>1998.0</td>\n      <td>2</td>\n      <td>S</td>\n      <td>1</td>\n      <td>Paved</td>\n      <td>V</td>\n      <td>DC UTE</td>\n      <td>TOYOTA</td>\n      <td>...</td>\n      <td>GRY</td>\n      <td>ZZ</td>\n      <td>2</td>\n      <td>9</td>\n      <td>0</td>\n      <td>3</td>\n      <td>3175.0</td>\n      <td>1</td>\n      <td>0</td>\n      <td>No control</td>\n    </tr>\n    <tr>\n      <th>4</th>\n      <td>T20060000018</td>\n      <td>B</td>\n      <td>1991.0</td>\n      <td>1</td>\n      <td>N</td>\n      <td>1</td>\n      <td>Paved</td>\n      <td>V</td>\n      <td>SEDAN</td>\n      <td>SUBARU</td>\n      <td>...</td>\n      <td>BLU</td>\n      <td>ZZ</td>\n      <td>2</td>\n      <td>F</td>\n      <td>0</td>\n      <td>5</td>\n      <td>3805.0</td>\n      <td>1</td>\n      <td>11</td>\n      <td>Giveway sign</td>\n    </tr>\n  </tbody>\n</table>\n<p>5 rows × 38 columns</p>\n</div>"
     },
     "execution_count": 23,
     "metadata": {},
     "output_type": "execute_result"
    }
   ],
   "source": [
    "df_vehicle.head()"
   ]
  },
  {
   "cell_type": "code",
   "execution_count": 24,
   "metadata": {},
   "outputs": [
    {
     "name": "stdout",
     "output_type": "stream",
     "text": [
      "<class 'pandas.core.frame.DataFrame'>\n",
      "RangeIndex: 365242 entries, 0 to 365241\n",
      "Data columns (total 38 columns):\n",
      " #   Column                  Non-Null Count   Dtype  \n",
      "---  ------                  --------------   -----  \n",
      " 0   ACCIDENT_NO             365242 non-null  object \n",
      " 1   VEHICLE_ID              365242 non-null  object \n",
      " 2   VEHICLE_YEAR_MANUF      342384 non-null  float64\n",
      " 3   VEHICLE_DCA_CODE        365242 non-null  object \n",
      " 4   INITIAL_DIRECTION       365242 non-null  object \n",
      " 5   ROAD_SURFACE_TYPE       365242 non-null  int64  \n",
      " 6   Road Surface Type Desc  365242 non-null  object \n",
      " 7   REG_STATE               365242 non-null  object \n",
      " 8   VEHICLE_BODY_STYLE      365242 non-null  object \n",
      " 9   VEHICLE_MAKE            365242 non-null  object \n",
      " 10  VEHICLE_MODEL           365242 non-null  object \n",
      " 11  VEHICLE_POWER           2 non-null       float64\n",
      " 12  VEHICLE_TYPE            365242 non-null  int64  \n",
      " 13  Vehicle Type Desc       365242 non-null  object \n",
      " 14  VEHICLE_WEIGHT          46159 non-null   float64\n",
      " 15  CONSTRUCTION_TYPE       365242 non-null  object \n",
      " 16  FUEL_TYPE               365242 non-null  object \n",
      " 17  NO_OF_WHEELS            294157 non-null  float64\n",
      " 18  NO_OF_CYLINDERS         301994 non-null  float64\n",
      " 19  SEATING_CAPACITY        279942 non-null  float64\n",
      " 20  TARE_WEIGHT             324512 non-null  float64\n",
      " 21  TOTAL_NO_OCCUPANTS      365235 non-null  float64\n",
      " 22  CARRY_CAPACITY          70394 non-null   float64\n",
      " 23  CUBIC_CAPACITY          43322 non-null   object \n",
      " 24  FINAL_DIRECTION         365242 non-null  object \n",
      " 25  DRIVER_INTENT           365242 non-null  object \n",
      " 26  VEHICLE_MOVEMENT        365242 non-null  object \n",
      " 27  TRAILER_TYPE            365242 non-null  object \n",
      " 28  VEHICLE_COLOUR_1        365242 non-null  object \n",
      " 29  VEHICLE_COLOUR_2        365242 non-null  object \n",
      " 30  CAUGHT_FIRE             365242 non-null  int64  \n",
      " 31  INITIAL_IMPACT          365242 non-null  object \n",
      " 32  LAMPS                   365242 non-null  int64  \n",
      " 33  LEVEL_OF_DAMAGE         365242 non-null  int64  \n",
      " 34  OWNER_POSTCODE          329238 non-null  float64\n",
      " 35  TOWED_AWAY_FLAG         365242 non-null  object \n",
      " 36  TRAFFIC_CONTROL         365242 non-null  object \n",
      " 37  Traffic Control Desc    365242 non-null  object \n",
      "dtypes: float64(10), int64(5), object(23)\n",
      "memory usage: 105.9+ MB\n"
     ]
    }
   ],
   "source": [
    "df_vehicle.info()"
   ]
  },
  {
   "cell_type": "code",
   "execution_count": 25,
   "outputs": [
    {
     "data": {
      "text/plain": "    ACCIDENT_NO PERSON_ID VEHICLE_ID SEX   AGE Age Group INJ_LEVEL  \\\n0  T20060000010        01          A   F   NaN   unknown         4   \n1  T20060000010        02          C   M  43.0     40-49         4   \n2  T20060000010        03          C   M  22.0     22-25         4   \n3  T20060000010        A           A   M  72.0       70+         4   \n4  T20060000010        B           B   F  62.0     60-64         3   \n\n  Inj Level Desc SEATING_POSITION HELMET_BELT_WORN ROAD_USER_TYPE  \\\n0    Not injured               LF                1              3   \n1    Not injured               LF                1              3   \n2    Not injured               LR                1              3   \n3    Not injured               D                 1              2   \n4   Other injury               D                 1              2   \n\n  Road User Type Desc LICENCE_STATE PEDEST_MOVEMENT  POSTCODE TAKEN_HOSPITAL  \\\n0          Passengers                             0    3130.0                  \n1          Passengers                             0    7310.0                  \n2          Passengers                             0    7310.0                  \n3             Drivers             V               0    3130.0                  \n4             Drivers             V               0       NaN              N   \n\n  EJECTED_CODE  \n0            0  \n1            0  \n2            0  \n3            0  \n4            0  ",
      "text/html": "<div>\n<style scoped>\n    .dataframe tbody tr th:only-of-type {\n        vertical-align: middle;\n    }\n\n    .dataframe tbody tr th {\n        vertical-align: top;\n    }\n\n    .dataframe thead th {\n        text-align: right;\n    }\n</style>\n<table border=\"1\" class=\"dataframe\">\n  <thead>\n    <tr style=\"text-align: right;\">\n      <th></th>\n      <th>ACCIDENT_NO</th>\n      <th>PERSON_ID</th>\n      <th>VEHICLE_ID</th>\n      <th>SEX</th>\n      <th>AGE</th>\n      <th>Age Group</th>\n      <th>INJ_LEVEL</th>\n      <th>Inj Level Desc</th>\n      <th>SEATING_POSITION</th>\n      <th>HELMET_BELT_WORN</th>\n      <th>ROAD_USER_TYPE</th>\n      <th>Road User Type Desc</th>\n      <th>LICENCE_STATE</th>\n      <th>PEDEST_MOVEMENT</th>\n      <th>POSTCODE</th>\n      <th>TAKEN_HOSPITAL</th>\n      <th>EJECTED_CODE</th>\n    </tr>\n  </thead>\n  <tbody>\n    <tr>\n      <th>0</th>\n      <td>T20060000010</td>\n      <td>01</td>\n      <td>A</td>\n      <td>F</td>\n      <td>NaN</td>\n      <td>unknown</td>\n      <td>4</td>\n      <td>Not injured</td>\n      <td>LF</td>\n      <td>1</td>\n      <td>3</td>\n      <td>Passengers</td>\n      <td></td>\n      <td>0</td>\n      <td>3130.0</td>\n      <td></td>\n      <td>0</td>\n    </tr>\n    <tr>\n      <th>1</th>\n      <td>T20060000010</td>\n      <td>02</td>\n      <td>C</td>\n      <td>M</td>\n      <td>43.0</td>\n      <td>40-49</td>\n      <td>4</td>\n      <td>Not injured</td>\n      <td>LF</td>\n      <td>1</td>\n      <td>3</td>\n      <td>Passengers</td>\n      <td></td>\n      <td>0</td>\n      <td>7310.0</td>\n      <td></td>\n      <td>0</td>\n    </tr>\n    <tr>\n      <th>2</th>\n      <td>T20060000010</td>\n      <td>03</td>\n      <td>C</td>\n      <td>M</td>\n      <td>22.0</td>\n      <td>22-25</td>\n      <td>4</td>\n      <td>Not injured</td>\n      <td>LR</td>\n      <td>1</td>\n      <td>3</td>\n      <td>Passengers</td>\n      <td></td>\n      <td>0</td>\n      <td>7310.0</td>\n      <td></td>\n      <td>0</td>\n    </tr>\n    <tr>\n      <th>3</th>\n      <td>T20060000010</td>\n      <td>A</td>\n      <td>A</td>\n      <td>M</td>\n      <td>72.0</td>\n      <td>70+</td>\n      <td>4</td>\n      <td>Not injured</td>\n      <td>D</td>\n      <td>1</td>\n      <td>2</td>\n      <td>Drivers</td>\n      <td>V</td>\n      <td>0</td>\n      <td>3130.0</td>\n      <td></td>\n      <td>0</td>\n    </tr>\n    <tr>\n      <th>4</th>\n      <td>T20060000010</td>\n      <td>B</td>\n      <td>B</td>\n      <td>F</td>\n      <td>62.0</td>\n      <td>60-64</td>\n      <td>3</td>\n      <td>Other injury</td>\n      <td>D</td>\n      <td>1</td>\n      <td>2</td>\n      <td>Drivers</td>\n      <td>V</td>\n      <td>0</td>\n      <td>NaN</td>\n      <td>N</td>\n      <td>0</td>\n    </tr>\n  </tbody>\n</table>\n</div>"
     },
     "execution_count": 25,
     "metadata": {},
     "output_type": "execute_result"
    }
   ],
   "source": [
    "df_person.head()"
   ],
   "metadata": {
    "collapsed": false,
    "pycharm": {
     "name": "#%%\n"
    }
   }
  },
  {
   "cell_type": "code",
   "execution_count": 26,
   "outputs": [
    {
     "name": "stdout",
     "output_type": "stream",
     "text": [
      "<class 'pandas.core.frame.DataFrame'>\n",
      "RangeIndex: 490948 entries, 0 to 490947\n",
      "Data columns (total 17 columns):\n",
      " #   Column               Non-Null Count   Dtype  \n",
      "---  ------               --------------   -----  \n",
      " 0   ACCIDENT_NO          490948 non-null  object \n",
      " 1   PERSON_ID            490948 non-null  object \n",
      " 2   VEHICLE_ID           490948 non-null  object \n",
      " 3   SEX                  490948 non-null  object \n",
      " 4   AGE                  469319 non-null  float64\n",
      " 5   Age Group            490948 non-null  object \n",
      " 6   INJ_LEVEL            490948 non-null  object \n",
      " 7   Inj Level Desc       490948 non-null  object \n",
      " 8   SEATING_POSITION     469659 non-null  object \n",
      " 9   HELMET_BELT_WORN     490948 non-null  object \n",
      " 10  ROAD_USER_TYPE       490948 non-null  object \n",
      " 11  Road User Type Desc  490948 non-null  object \n",
      " 12  LICENCE_STATE        490948 non-null  object \n",
      " 13  PEDEST_MOVEMENT      490948 non-null  object \n",
      " 14  POSTCODE             416854 non-null  float64\n",
      " 15  TAKEN_HOSPITAL       490948 non-null  object \n",
      " 16  EJECTED_CODE         490948 non-null  object \n",
      "dtypes: float64(2), object(15)\n",
      "memory usage: 63.7+ MB\n"
     ]
    }
   ],
   "source": [
    "df_person.info()"
   ],
   "metadata": {
    "collapsed": false,
    "pycharm": {
     "name": "#%%\n"
    }
   }
  },
  {
   "cell_type": "code",
   "execution_count": 27,
   "outputs": [
    {
     "data": {
      "text/plain": "    ACCIDENT_NO  NODE_ID NODE_TYPE  VICGRID94_X  VICGRID94_Y   LGA_NAME  \\\n0  T20060002689       22         I  2495701.925  2411599.135  MELBOURNE   \n1  T20060010827       22         I  2495701.925  2411599.135  MELBOURNE   \n2  T20060017279       22         I  2495701.925  2411599.135  MELBOURNE   \n3  T20060041762       22         I  2495701.925  2411599.135  MELBOURNE   \n4  T20060047478       22         I  2495701.925  2411599.135  MELBOURNE   \n\n  LGA_NAME_ALL                     REGION_NAME DEG_URBAN_NAME        Lat  \\\n0    MELBOURNE  METROPOLITAN NORTH WEST REGION     MELB_URBAN -37.796596   \n1    MELBOURNE  METROPOLITAN NORTH WEST REGION     MELB_URBAN -37.796596   \n2    MELBOURNE  METROPOLITAN NORTH WEST REGION     MELB_URBAN -37.796596   \n3    MELBOURNE  METROPOLITAN NORTH WEST REGION     MELB_URBAN -37.796596   \n4    MELBOURNE  METROPOLITAN NORTH WEST REGION     MELB_URBAN -37.796596   \n\n         Long  POSTCODE_NO  \n0  144.951197         3051  \n1  144.951197         3051  \n2  144.951197         3051  \n3  144.951197         3051  \n4  144.951197         3051  ",
      "text/html": "<div>\n<style scoped>\n    .dataframe tbody tr th:only-of-type {\n        vertical-align: middle;\n    }\n\n    .dataframe tbody tr th {\n        vertical-align: top;\n    }\n\n    .dataframe thead th {\n        text-align: right;\n    }\n</style>\n<table border=\"1\" class=\"dataframe\">\n  <thead>\n    <tr style=\"text-align: right;\">\n      <th></th>\n      <th>ACCIDENT_NO</th>\n      <th>NODE_ID</th>\n      <th>NODE_TYPE</th>\n      <th>VICGRID94_X</th>\n      <th>VICGRID94_Y</th>\n      <th>LGA_NAME</th>\n      <th>LGA_NAME_ALL</th>\n      <th>REGION_NAME</th>\n      <th>DEG_URBAN_NAME</th>\n      <th>Lat</th>\n      <th>Long</th>\n      <th>POSTCODE_NO</th>\n    </tr>\n  </thead>\n  <tbody>\n    <tr>\n      <th>0</th>\n      <td>T20060002689</td>\n      <td>22</td>\n      <td>I</td>\n      <td>2495701.925</td>\n      <td>2411599.135</td>\n      <td>MELBOURNE</td>\n      <td>MELBOURNE</td>\n      <td>METROPOLITAN NORTH WEST REGION</td>\n      <td>MELB_URBAN</td>\n      <td>-37.796596</td>\n      <td>144.951197</td>\n      <td>3051</td>\n    </tr>\n    <tr>\n      <th>1</th>\n      <td>T20060010827</td>\n      <td>22</td>\n      <td>I</td>\n      <td>2495701.925</td>\n      <td>2411599.135</td>\n      <td>MELBOURNE</td>\n      <td>MELBOURNE</td>\n      <td>METROPOLITAN NORTH WEST REGION</td>\n      <td>MELB_URBAN</td>\n      <td>-37.796596</td>\n      <td>144.951197</td>\n      <td>3051</td>\n    </tr>\n    <tr>\n      <th>2</th>\n      <td>T20060017279</td>\n      <td>22</td>\n      <td>I</td>\n      <td>2495701.925</td>\n      <td>2411599.135</td>\n      <td>MELBOURNE</td>\n      <td>MELBOURNE</td>\n      <td>METROPOLITAN NORTH WEST REGION</td>\n      <td>MELB_URBAN</td>\n      <td>-37.796596</td>\n      <td>144.951197</td>\n      <td>3051</td>\n    </tr>\n    <tr>\n      <th>3</th>\n      <td>T20060041762</td>\n      <td>22</td>\n      <td>I</td>\n      <td>2495701.925</td>\n      <td>2411599.135</td>\n      <td>MELBOURNE</td>\n      <td>MELBOURNE</td>\n      <td>METROPOLITAN NORTH WEST REGION</td>\n      <td>MELB_URBAN</td>\n      <td>-37.796596</td>\n      <td>144.951197</td>\n      <td>3051</td>\n    </tr>\n    <tr>\n      <th>4</th>\n      <td>T20060047478</td>\n      <td>22</td>\n      <td>I</td>\n      <td>2495701.925</td>\n      <td>2411599.135</td>\n      <td>MELBOURNE</td>\n      <td>MELBOURNE</td>\n      <td>METROPOLITAN NORTH WEST REGION</td>\n      <td>MELB_URBAN</td>\n      <td>-37.796596</td>\n      <td>144.951197</td>\n      <td>3051</td>\n    </tr>\n  </tbody>\n</table>\n</div>"
     },
     "execution_count": 27,
     "metadata": {},
     "output_type": "execute_result"
    }
   ],
   "source": [
    "df_node.head()"
   ],
   "metadata": {
    "collapsed": false,
    "pycharm": {
     "name": "#%%\n"
    }
   }
  },
  {
   "cell_type": "code",
   "execution_count": 28,
   "outputs": [
    {
     "name": "stdout",
     "output_type": "stream",
     "text": [
      "<class 'pandas.core.frame.DataFrame'>\n",
      "RangeIndex: 221797 entries, 0 to 221796\n",
      "Data columns (total 12 columns):\n",
      " #   Column          Non-Null Count   Dtype  \n",
      "---  ------          --------------   -----  \n",
      " 0   ACCIDENT_NO     221797 non-null  object \n",
      " 1   NODE_ID         221797 non-null  int64  \n",
      " 2   NODE_TYPE       221797 non-null  object \n",
      " 3   VICGRID94_X     221797 non-null  float64\n",
      " 4   VICGRID94_Y     221797 non-null  float64\n",
      " 5   LGA_NAME        221797 non-null  object \n",
      " 6   LGA_NAME_ALL    221797 non-null  object \n",
      " 7   REGION_NAME     221797 non-null  object \n",
      " 8   DEG_URBAN_NAME  221797 non-null  object \n",
      " 9   Lat             221797 non-null  float64\n",
      " 10  Long            221797 non-null  float64\n",
      " 11  POSTCODE_NO     221797 non-null  int64  \n",
      "dtypes: float64(4), int64(2), object(6)\n",
      "memory usage: 20.3+ MB\n"
     ]
    }
   ],
   "source": [
    "df_node.info()"
   ],
   "metadata": {
    "collapsed": false,
    "pycharm": {
     "name": "#%%\n"
    }
   }
  },
  {
   "cell_type": "code",
   "execution_count": 29,
   "outputs": [
    {
     "data": {
      "text/plain": "    ACCIDENT_NO  SURFACE_COND Surface Cond Desc  SURFACE_COND_SEQ\n0  T20060000010             1               Dry                 1\n1  T20060000018             1               Dry                 1\n2  T20060000022             1               Dry                 1\n3  T20060000023             1               Dry                 1\n4  T20060000026             1               Dry                 1",
      "text/html": "<div>\n<style scoped>\n    .dataframe tbody tr th:only-of-type {\n        vertical-align: middle;\n    }\n\n    .dataframe tbody tr th {\n        vertical-align: top;\n    }\n\n    .dataframe thead th {\n        text-align: right;\n    }\n</style>\n<table border=\"1\" class=\"dataframe\">\n  <thead>\n    <tr style=\"text-align: right;\">\n      <th></th>\n      <th>ACCIDENT_NO</th>\n      <th>SURFACE_COND</th>\n      <th>Surface Cond Desc</th>\n      <th>SURFACE_COND_SEQ</th>\n    </tr>\n  </thead>\n  <tbody>\n    <tr>\n      <th>0</th>\n      <td>T20060000010</td>\n      <td>1</td>\n      <td>Dry</td>\n      <td>1</td>\n    </tr>\n    <tr>\n      <th>1</th>\n      <td>T20060000018</td>\n      <td>1</td>\n      <td>Dry</td>\n      <td>1</td>\n    </tr>\n    <tr>\n      <th>2</th>\n      <td>T20060000022</td>\n      <td>1</td>\n      <td>Dry</td>\n      <td>1</td>\n    </tr>\n    <tr>\n      <th>3</th>\n      <td>T20060000023</td>\n      <td>1</td>\n      <td>Dry</td>\n      <td>1</td>\n    </tr>\n    <tr>\n      <th>4</th>\n      <td>T20060000026</td>\n      <td>1</td>\n      <td>Dry</td>\n      <td>1</td>\n    </tr>\n  </tbody>\n</table>\n</div>"
     },
     "execution_count": 29,
     "metadata": {},
     "output_type": "execute_result"
    }
   ],
   "source": [
    "df_road_surface_condition.head()"
   ],
   "metadata": {
    "collapsed": false,
    "pycharm": {
     "name": "#%%\n"
    }
   }
  },
  {
   "cell_type": "code",
   "execution_count": 30,
   "outputs": [
    {
     "name": "stdout",
     "output_type": "stream",
     "text": [
      "<class 'pandas.core.frame.DataFrame'>\n",
      "RangeIndex: 205030 entries, 0 to 205029\n",
      "Data columns (total 4 columns):\n",
      " #   Column             Non-Null Count   Dtype \n",
      "---  ------             --------------   ----- \n",
      " 0   ACCIDENT_NO        205030 non-null  object\n",
      " 1   SURFACE_COND       205030 non-null  int64 \n",
      " 2   Surface Cond Desc  205030 non-null  object\n",
      " 3   SURFACE_COND_SEQ   205030 non-null  int64 \n",
      "dtypes: int64(2), object(2)\n",
      "memory usage: 6.3+ MB\n"
     ]
    }
   ],
   "source": [
    "df_road_surface_condition.info()"
   ],
   "metadata": {
    "collapsed": false,
    "pycharm": {
     "name": "#%%\n"
    }
   }
  },
  {
   "cell_type": "code",
   "execution_count": 6,
   "metadata": {},
   "outputs": [
    {
     "data": {
      "text/plain": [
       "count    300153.000000\n",
       "mean      20889.660523\n",
       "std       22697.767366\n",
       "min        1105.000000\n",
       "25%        4783.000000\n",
       "50%        7425.000000\n",
       "75%       42521.000000\n",
       "max      123071.000000\n",
       "Name: price, dtype: float64"
      ]
     },
     "execution_count": 6,
     "metadata": {},
     "output_type": "execute_result"
    }
   ],
   "source": [
    "df_accident[\"price\"].describe()"
   ]
  },
  {
   "cell_type": "code",
   "execution_count": 7,
   "metadata": {},
   "outputs": [
    {
     "data": {
      "text/plain": [
       "(300153, 12)"
      ]
     },
     "execution_count": 7,
     "metadata": {},
     "output_type": "execute_result"
    }
   ],
   "source": [
    "df_accident.shape"
   ]
  },
  {
   "cell_type": "code",
   "execution_count": 8,
   "metadata": {
    "cell_id": "2b9e5b4ff1244b40a169f858e9e338a5",
    "deepnote_cell_height": 348.640625,
    "deepnote_cell_type": "code",
    "deepnote_output_heights": [
     251.375
    ],
    "deepnote_to_be_reexecuted": false,
    "execution_millis": 346,
    "execution_start": 1649236646959,
    "source_hash": "ae6b491",
    "tags": []
   },
   "outputs": [
    {
     "data": {
      "text/plain": [
       "Unnamed: 0          300153\n",
       "airline                  6\n",
       "flight                1561\n",
       "source_city              6\n",
       "departure_time           6\n",
       "stops                    3\n",
       "arrival_time             6\n",
       "destination_city         6\n",
       "class                    2\n",
       "duration               476\n",
       "days_left               49\n",
       "price                12157\n",
       "dtype: int64"
      ]
     },
     "execution_count": 8,
     "metadata": {},
     "output_type": "execute_result"
    }
   ],
   "source": [
    "df_accident.nunique()"
   ]
  },
  {
   "cell_type": "code",
   "execution_count": 9,
   "metadata": {
    "cell_id": "9a66721e731644b5ab3330f310ed0d0e",
    "deepnote_cell_height": 66.15625,
    "deepnote_cell_type": "code",
    "deepnote_to_be_reexecuted": false,
    "execution_millis": 7,
    "execution_start": 1649236739632,
    "source_hash": "d794f466",
    "tags": []
   },
   "outputs": [
    {
     "data": {
      "text/plain": [
       "Unnamed: 0          0\n",
       "airline             0\n",
       "flight              0\n",
       "source_city         0\n",
       "departure_time      0\n",
       "stops               0\n",
       "arrival_time        0\n",
       "destination_city    0\n",
       "class               0\n",
       "duration            0\n",
       "days_left           0\n",
       "price               0\n",
       "dtype: int64"
      ]
     },
     "execution_count": 9,
     "metadata": {},
     "output_type": "execute_result"
    }
   ],
   "source": [
    "df_accident.isna().sum()"
   ]
  },
  {
   "cell_type": "code",
   "execution_count": null,
   "metadata": {
    "cell_id": "3d304906d5f94d25afb98993a184ca3c",
    "deepnote_cell_height": 66.15625,
    "deepnote_cell_type": "code",
    "tags": []
   },
   "outputs": [],
   "source": []
  },
  {
   "cell_type": "markdown",
   "metadata": {
    "created_in_deepnote_cell": true,
    "deepnote_cell_type": "markdown",
    "tags": []
   },
   "source": [
    "<a style='text-decoration:none;line-height:16px;display:flex;color:#5B5B62;padding:10px;justify-content:end;' href='https://deepnote.com?utm_source=created-in-deepnote-cell&projectId=c302eb41-8fd3-40b0-a2f8-14b0852194c0' target=\"_blank\">\n",
    "<img alt='Created in deepnote.com' style='display:inline;max-height:16px;margin:0px;margin-right:7.5px;' src='data:image/svg+xml;base64,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' > </img>\n",
    "Created in <span style='font-weight:600;margin-left:4px;'>Deepnote</span></a>"
   ]
  }
 ],
 "metadata": {
  "deepnote": {
   "is_reactive": false
  },
  "deepnote_execution_queue": [],
  "deepnote_notebook_id": "128cff00-6e54-47a2-96bc-fd094736863f",
  "kernelspec": {
   "display_name": "Python 3",
   "language": "python",
   "name": "python3"
  },
  "language_info": {
   "codemirror_mode": {
    "name": "ipython",
    "version": 3
   },
   "file_extension": ".py",
   "mimetype": "text/x-python",
   "name": "python",
   "nbconvert_exporter": "python",
   "pygments_lexer": "ipython3",
   "version": "3.8.8"
  }
 },
 "nbformat": 4,
 "nbformat_minor": 2
}